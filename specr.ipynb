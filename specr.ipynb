{
 "cells": [
  {
   "cell_type": "code",
   "execution_count": 9,
   "metadata": {},
   "outputs": [],
   "source": [
    "import librosa\n",
    "import numpy as np\n",
    "import os\n",
    "import matplotlib.pyplot as plt\n",
    "import pandas as pd\n",
    "\n",
    "path_to_ogg = 'openmic-2018/audio/'\n",
    "\n",
    "# convert all .ogg files to log-scaled mel spectrograms\n",
    "\n",
    "# load label file\n",
    "# sample_key,instrument,relevance,num_responses\n",
    "names = ['sample_key', 'instrument', 'relevance', 'num_responses']\n",
    "labels = pd.read_csv('openmic-2018/openmic-2018-aggregated-labels.csv', delimiter=',', names=names, header=0)\n"
   ]
  },
  {
   "cell_type": "code",
   "execution_count": 10,
   "metadata": {},
   "outputs": [
    {
     "name": "stdout",
     "output_type": "stream",
     "text": [
      "['clarinet' 'flute' 'trumpet' 'saxophone' 'voice' 'accordion' 'ukulele'\n",
      " 'mallet_percussion' 'piano' 'guitar' 'mandolin' 'banjo' 'synthesizer'\n",
      " 'trombone' 'organ' 'drums' 'bass' 'cymbals' 'cello' 'violin']\n"
     ]
    }
   ],
   "source": [
    "# get all unique labels\n",
    "unique_labels = labels.instrument.unique()\n",
    "print(unique_labels)"
   ]
  },
  {
   "cell_type": "code",
   "execution_count": 11,
   "metadata": {},
   "outputs": [],
   "source": [
    "# Architectural constants.\n",
    "NUM_FRAMES = 96  # Frames in input mel-spectrogram patch.\n",
    "NUM_BANDS = 64  # Frequency bands in input mel-spectrogram patch.\n",
    "EMBEDDING_SIZE = 128  # Size of embedding layer.\n",
    "\n",
    "# Hyperparameters used in feature and example generation.\n",
    "SAMPLE_RATE = 16000\n",
    "STFT_WINDOW_LENGTH_SECONDS = 0.025\n",
    "STFT_HOP_LENGTH_SECONDS = 0.010\n",
    "NUM_MEL_BINS = NUM_BANDS\n",
    "MEL_MIN_HZ = 125\n",
    "MEL_MAX_HZ = 7500\n",
    "LOG_OFFSET = 0.01  # Offset used for stabilized log of input mel-spectrogram.\n",
    "EXAMPLE_WINDOW_SECONDS = 0.96  # Each example contains 96 10ms frames\n",
    "EXAMPLE_HOP_SECONDS = 0.96     # with zero overlap."
   ]
  },
  {
   "cell_type": "code",
   "execution_count": 12,
   "metadata": {},
   "outputs": [
    {
     "name": "stdout",
     "output_type": "stream",
     "text": [
      "['filename' 'clarinet' 'flute' 'trumpet' 'saxophone' 'voice' 'accordion'\n",
      " 'ukulele' 'mallet_percussion' 'piano' 'guitar' 'mandolin' 'banjo'\n",
      " 'synthesizer' 'trombone' 'organ' 'drums' 'bass' 'cymbals' 'cello'\n",
      " 'violin' 'clarinet_mask' 'flute_mask' 'trumpet_mask' 'saxophone_mask'\n",
      " 'voice_mask' 'accordion_mask' 'ukulele_mask' 'mallet_percussion_mask'\n",
      " 'piano_mask' 'guitar_mask' 'mandolin_mask' 'banjo_mask'\n",
      " 'synthesizer_mask' 'trombone_mask' 'organ_mask' 'drums_mask' 'bass_mask'\n",
      " 'cymbals_mask' 'cello_mask' 'violin_mask']\n"
     ]
    }
   ],
   "source": [
    "import vggish_input\n",
    "\n",
    "# for saving to csv along with file name\n",
    "labels_to_save = []\n",
    "\n",
    "# loop through all .ogg files\n",
    "# loop through all subfolders\n",
    "for idx, folder in enumerate(os.listdir(path_to_ogg)):\n",
    "    full_path = path_to_ogg + folder\n",
    "\n",
    "    for filename in os.listdir(full_path):\n",
    "        if filename.endswith(\".ogg\"):\n",
    "            # load audio file and resample to 16000 Hz\n",
    "            y, sr = librosa.load(path_to_ogg + '/' + folder + '/' + filename, sr=SAMPLE_RATE)\n",
    "\n",
    "            # get mel-spectrogram\n",
    "            spec = vggish_input.waveform_to_examples(y, sr)\n",
    "\n",
    "            np.save('spectrograms/' + filename[:-4] + '.npy', spec)\n",
    "\n",
    "            # get the labels for this file\n",
    "            file_labels = labels.loc[labels['sample_key'] == filename[:-4]]\n",
    "\n",
    "            label = np.zeros(len(unique_labels))\n",
    "            mask = np.zeros(len(unique_labels))\n",
    "\n",
    "            for i in range(len(file_labels)):\n",
    "                label[np.where(unique_labels == file_labels.iloc[i]['instrument'])] = file_labels.iloc[i]['relevance']\n",
    "                mask[np.where(unique_labels == file_labels.iloc[i]['instrument'])] = 1\n",
    "\n",
    "            # create a list with filename and labels and mask\n",
    "            labels_to_save.append(np.append(filename[:-4], np.append(label, mask)))\n",
    "\n",
    "            continue\n",
    "        else:\n",
    "            continue\n",
    "\n",
    "    # print percentage of files processed\n",
    "    print(f'Percentage of folders processed: {round((idx + 1) / len(os.listdir(path_to_ogg)) * 100, 2)}%', end='\\r')\n",
    "\n",
    "# save labels to csv\n",
    "labels_to_save = np.array(labels_to_save)\n",
    "\n",
    "# add header\n",
    "# ['filename' 'clarinet' 'flute' 'trumpet' 'saxophone' 'voice' 'accordion' 'ukulele' 'mallet_percussion' 'piano' 'guitar' 'mandolin' 'banjo' 'synthesizer' 'trombone' 'organ' 'drums' 'bass' 'cymbals' 'cello' 'violin', 'mask']\n",
    "headers = np.append(['filename'], np.append(unique_labels, unique_labels + '_mask'))\n",
    "print(headers)\n",
    "labels_to_save = np.vstack((headers, labels_to_save))\n",
    "\n",
    "np.savetxt('labels.csv', labels_to_save, delimiter=',', fmt='%s')"
   ]
  },
  {
   "cell_type": "code",
   "execution_count": null,
   "metadata": {},
   "outputs": [],
   "source": []
  }
 ],
 "metadata": {
  "kernelspec": {
   "display_name": "Python 3 (ipykernel)",
   "language": "python",
   "name": "python3"
  },
  "orig_nbformat": 4
 },
 "nbformat": 4,
 "nbformat_minor": 2
}
