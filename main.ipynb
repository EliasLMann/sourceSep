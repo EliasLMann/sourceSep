{
 "cells": [
  {
   "attachments": {},
   "cell_type": "markdown",
   "metadata": {},
   "source": [
    "# Source Separation Using Classifier Transfer Learning"
   ]
  },
  {
   "cell_type": "code",
   "execution_count": 96,
   "metadata": {},
   "outputs": [],
   "source": [
    "#import statements\n",
    "import pandas as pd\n",
    "import numpy as np\n",
    "import matplotlib.pyplot as plt\n",
    "#import pytorch\n",
    "import torch\n",
    "import librosa\n",
    "import librosa.display\n",
    "import os\n",
    "import ffmpeg\n",
    "import moviepy.editor as mp\n",
    "import torchaudio as ta"
   ]
  },
  {
   "cell_type": "code",
   "execution_count": 81,
   "metadata": {},
   "outputs": [],
   "source": [
    "#load the files in the train foldeR\n",
    "train_folder = 'data/train_wav/'\n",
    "test_folder = 'data/tes_wav/'\n",
    "\n",
    "#load the files in the train folder\n",
    "train_files = librosa.util.find_files(train_folder, ext=['wav'])\n",
    "test_files = librosa.util.find_files(test_folder, ext=['wav'])"
   ]
  },
  {
   "cell_type": "code",
   "execution_count": 102,
   "metadata": {},
   "outputs": [],
   "source": [
    "#load a file with torchaudio\n",
    "waveform, sample_rate = ta.load(train_files[0])\n",
    "\n",
    "#convert the waveform to a spectrogram\n",
    "specgram = ta.transforms.Spectrogram(power=None)(waveform)\n",
    "\n",
    "#convert back to a waveform\n",
    "waveform_recovered = ta.transforms.InverseSpectrogram()(specgram)"
   ]
  },
  {
   "cell_type": "code",
   "execution_count": 103,
   "metadata": {},
   "outputs": [],
   "source": [
    "#save original and reconstructed audio\n",
    "ta.save('original.wav', waveform, sample_rate)\n",
    "ta.save('reconstructed.wav', waveform, sample_rate)"
   ]
  },
  {
   "cell_type": "code",
   "execution_count": 106,
   "metadata": {},
   "outputs": [],
   "source": [
    "#read in the pytorch model\n",
    "model = torch.load('model_0.pt')\n"
   ]
  },
  {
   "cell_type": "code",
   "execution_count": 107,
   "metadata": {},
   "outputs": [
    {
     "ename": "IndexError",
     "evalue": "Dimension out of range (expected to be in range of [-2, 1], but got 2)",
     "output_type": "error",
     "traceback": [
      "\u001b[0;31m---------------------------------------------------------------------------\u001b[0m",
      "\u001b[0;31mIndexError\u001b[0m                                Traceback (most recent call last)",
      "Cell \u001b[0;32mIn[107], line 6\u001b[0m\n\u001b[1;32m      3\u001b[0m input_data \u001b[39m=\u001b[39m torch\u001b[39m.\u001b[39mtensor(waveform, dtype\u001b[39m=\u001b[39mtorch\u001b[39m.\u001b[39mfloat32)\n\u001b[1;32m      5\u001b[0m \u001b[39mwith\u001b[39;00m torch\u001b[39m.\u001b[39mno_grad():\n\u001b[0;32m----> 6\u001b[0m     output \u001b[39m=\u001b[39m model(input_data)\n\u001b[1;32m      7\u001b[0m     \u001b[39mprint\u001b[39m(output\u001b[39m.\u001b[39mshape)\n\u001b[1;32m      9\u001b[0m \u001b[39m#convert the output to a numpy array\u001b[39;00m\n",
      "File \u001b[0;32m~/.conda/envs/podElias/lib/python3.9/site-packages/torch/nn/modules/module.py:1501\u001b[0m, in \u001b[0;36mModule._call_impl\u001b[0;34m(self, *args, **kwargs)\u001b[0m\n\u001b[1;32m   1496\u001b[0m \u001b[39m# If we don't have any hooks, we want to skip the rest of the logic in\u001b[39;00m\n\u001b[1;32m   1497\u001b[0m \u001b[39m# this function, and just call forward.\u001b[39;00m\n\u001b[1;32m   1498\u001b[0m \u001b[39mif\u001b[39;00m \u001b[39mnot\u001b[39;00m (\u001b[39mself\u001b[39m\u001b[39m.\u001b[39m_backward_hooks \u001b[39mor\u001b[39;00m \u001b[39mself\u001b[39m\u001b[39m.\u001b[39m_backward_pre_hooks \u001b[39mor\u001b[39;00m \u001b[39mself\u001b[39m\u001b[39m.\u001b[39m_forward_hooks \u001b[39mor\u001b[39;00m \u001b[39mself\u001b[39m\u001b[39m.\u001b[39m_forward_pre_hooks\n\u001b[1;32m   1499\u001b[0m         \u001b[39mor\u001b[39;00m _global_backward_pre_hooks \u001b[39mor\u001b[39;00m _global_backward_hooks\n\u001b[1;32m   1500\u001b[0m         \u001b[39mor\u001b[39;00m _global_forward_hooks \u001b[39mor\u001b[39;00m _global_forward_pre_hooks):\n\u001b[0;32m-> 1501\u001b[0m     \u001b[39mreturn\u001b[39;00m forward_call(\u001b[39m*\u001b[39;49margs, \u001b[39m*\u001b[39;49m\u001b[39m*\u001b[39;49mkwargs)\n\u001b[1;32m   1502\u001b[0m \u001b[39m# Do not call functions when jit is used\u001b[39;00m\n\u001b[1;32m   1503\u001b[0m full_backward_hooks, non_full_backward_hooks \u001b[39m=\u001b[39m [], []\n",
      "File \u001b[0;32m~/sourceSep/Attention.py:162\u001b[0m, in \u001b[0;36mDecisionLevelSingleAttention.forward\u001b[0;34m(self, input)\u001b[0m\n\u001b[1;32m    158\u001b[0m \u001b[39m\"\"\"input: (samples_num, freq_bins, time_steps, 1)\u001b[39;00m\n\u001b[1;32m    159\u001b[0m \u001b[39m\"\"\"\u001b[39;00m\n\u001b[1;32m    161\u001b[0m \u001b[39m# (samples_num, hidden_units, time_steps, 1)\u001b[39;00m\n\u001b[0;32m--> 162\u001b[0m b1 \u001b[39m=\u001b[39m \u001b[39mself\u001b[39;49m\u001b[39m.\u001b[39;49memb(\u001b[39minput\u001b[39;49m)\n\u001b[1;32m    164\u001b[0m \u001b[39m# (samples_num, classes_num, time_steps, 1)\u001b[39;00m\n\u001b[1;32m    165\u001b[0m output \u001b[39m=\u001b[39m \u001b[39mself\u001b[39m\u001b[39m.\u001b[39mattention(b1)\n",
      "File \u001b[0;32m~/.conda/envs/podElias/lib/python3.9/site-packages/torch/nn/modules/module.py:1501\u001b[0m, in \u001b[0;36mModule._call_impl\u001b[0;34m(self, *args, **kwargs)\u001b[0m\n\u001b[1;32m   1496\u001b[0m \u001b[39m# If we don't have any hooks, we want to skip the rest of the logic in\u001b[39;00m\n\u001b[1;32m   1497\u001b[0m \u001b[39m# this function, and just call forward.\u001b[39;00m\n\u001b[1;32m   1498\u001b[0m \u001b[39mif\u001b[39;00m \u001b[39mnot\u001b[39;00m (\u001b[39mself\u001b[39m\u001b[39m.\u001b[39m_backward_hooks \u001b[39mor\u001b[39;00m \u001b[39mself\u001b[39m\u001b[39m.\u001b[39m_backward_pre_hooks \u001b[39mor\u001b[39;00m \u001b[39mself\u001b[39m\u001b[39m.\u001b[39m_forward_hooks \u001b[39mor\u001b[39;00m \u001b[39mself\u001b[39m\u001b[39m.\u001b[39m_forward_pre_hooks\n\u001b[1;32m   1499\u001b[0m         \u001b[39mor\u001b[39;00m _global_backward_pre_hooks \u001b[39mor\u001b[39;00m _global_backward_hooks\n\u001b[1;32m   1500\u001b[0m         \u001b[39mor\u001b[39;00m _global_forward_hooks \u001b[39mor\u001b[39;00m _global_forward_pre_hooks):\n\u001b[0;32m-> 1501\u001b[0m     \u001b[39mreturn\u001b[39;00m forward_call(\u001b[39m*\u001b[39;49margs, \u001b[39m*\u001b[39;49m\u001b[39m*\u001b[39;49mkwargs)\n\u001b[1;32m   1502\u001b[0m \u001b[39m# Do not call functions when jit is used\u001b[39;00m\n\u001b[1;32m   1503\u001b[0m full_backward_hooks, non_full_backward_hooks \u001b[39m=\u001b[39m [], []\n",
      "File \u001b[0;32m~/sourceSep/Attention.py:112\u001b[0m, in \u001b[0;36mEmbeddingLayers.forward\u001b[0;34m(self, input, return_layers)\u001b[0m\n\u001b[1;32m    109\u001b[0m drop_rate \u001b[39m=\u001b[39m \u001b[39mself\u001b[39m\u001b[39m.\u001b[39mdrop_rate\n\u001b[1;32m    111\u001b[0m \u001b[39m# (samples_num, freq_bins, time_steps)\u001b[39;00m\n\u001b[0;32m--> 112\u001b[0m x \u001b[39m=\u001b[39m \u001b[39minput\u001b[39;49m\u001b[39m.\u001b[39;49mtranspose(\u001b[39m1\u001b[39;49m, \u001b[39m2\u001b[39;49m)\n\u001b[1;32m    114\u001b[0m \u001b[39m# Add an extra dimension for using Conv2d\u001b[39;00m\n\u001b[1;32m    115\u001b[0m \u001b[39m# (samples_num, freq_bins, time_steps, 1)\u001b[39;00m\n\u001b[1;32m    116\u001b[0m x \u001b[39m=\u001b[39m x[:, :, :, \u001b[39mNone\u001b[39;00m]\u001b[39m.\u001b[39mcontiguous()\n",
      "\u001b[0;31mIndexError\u001b[0m: Dimension out of range (expected to be in range of [-2, 1], but got 2)"
     ]
    }
   ],
   "source": [
    "model.eval()\n",
    "\n",
    "input_data = torch.tensor(waveform, dtype=torch.float32)\n",
    "\n",
    "with torch.no_grad():\n",
    "    output = model(input_data)\n",
    "    print(output.shape)\n",
    "\n",
    "#convert the output to a numpy array\n",
    "output = output.numpy()\n",
    "print(output)"
   ]
  },
  {
   "cell_type": "code",
   "execution_count": null,
   "metadata": {},
   "outputs": [],
   "source": []
  }
 ],
 "metadata": {
  "kernelspec": {
   "display_name": "Python 3 (ipykernel)",
   "language": "python",
   "name": "python3"
  },
  "language_info": {
   "codemirror_mode": {
    "name": "ipython",
    "version": 3
   },
   "file_extension": ".py",
   "mimetype": "text/x-python",
   "name": "python",
   "nbconvert_exporter": "python",
   "pygments_lexer": "ipython3",
   "version": "3.9.16"
  },
  "orig_nbformat": 4
 },
 "nbformat": 4,
 "nbformat_minor": 2
}
